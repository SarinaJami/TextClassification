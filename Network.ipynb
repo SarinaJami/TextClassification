{
 "cells": [
  {
   "cell_type": "code",
   "execution_count": 13,
   "id": "e8036270",
   "metadata": {},
   "outputs": [],
   "source": [
    "import os\n",
    "import pandas as pd\n",
    "import glob"
   ]
  },
  {
   "cell_type": "code",
   "execution_count": 18,
   "id": "fe2154e3",
   "metadata": {},
   "outputs": [],
   "source": [
    "# create path to json files\n",
    "path_to_json = \"Task\\Retweet Network\\Event\"\n",
    "json_pattern = os.path.join(path_to_json, \"*.json\")\n",
    "file_list = glob.glob(json_pattern)\n",
    "# read json files into dataframes\n",
    "dfs = []\n",
    "for file in file_list:\n",
    "    data = pd.read_json(file, orient=\"index\")\n",
    "    # store dataframes in a list\n",
    "    dfs.append(data)\n",
    "# concatenate all dataframes\n",
    "df = pd.concat(dfs, ignore_index=True)"
   ]
  },
  {
   "cell_type": "code",
   "execution_count": null,
   "id": "328305b4",
   "metadata": {},
   "outputs": [],
   "source": []
  }
 ],
 "metadata": {
  "kernelspec": {
   "display_name": "Python 3 (ipykernel)",
   "language": "python",
   "name": "python3"
  },
  "language_info": {
   "codemirror_mode": {
    "name": "ipython",
    "version": 3
   },
   "file_extension": ".py",
   "mimetype": "text/x-python",
   "name": "python",
   "nbconvert_exporter": "python",
   "pygments_lexer": "ipython3",
   "version": "3.9.1"
  }
 },
 "nbformat": 4,
 "nbformat_minor": 5
}
