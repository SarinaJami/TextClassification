{
 "cells": [
  {
   "cell_type": "code",
   "execution_count": 1,
   "id": "103dd1da",
   "metadata": {},
   "outputs": [],
   "source": [
    "import pandas as pd\n",
    "import numpy as np\n",
    "import matplotlib.pyplot as plt\n",
    "import regex as re\n",
    "import nltk\n",
    "from wordcloud import WordCloud"
   ]
  },
  {
   "cell_type": "code",
   "execution_count": 2,
   "id": "c0aede88",
   "metadata": {},
   "outputs": [
    {
     "data": {
      "text/html": [
       "<div>\n",
       "<style scoped>\n",
       "    .dataframe tbody tr th:only-of-type {\n",
       "        vertical-align: middle;\n",
       "    }\n",
       "\n",
       "    .dataframe tbody tr th {\n",
       "        vertical-align: top;\n",
       "    }\n",
       "\n",
       "    .dataframe thead th {\n",
       "        text-align: right;\n",
       "    }\n",
       "</style>\n",
       "<table border=\"1\" class=\"dataframe\">\n",
       "  <thead>\n",
       "    <tr style=\"text-align: right;\">\n",
       "      <th></th>\n",
       "      <th>Unnamed: 0</th>\n",
       "      <th>in_reply_to_user_id</th>\n",
       "      <th>is_quote</th>\n",
       "      <th>is_retweet</th>\n",
       "      <th>like_count</th>\n",
       "      <th>quote_count</th>\n",
       "      <th>quoted_text</th>\n",
       "      <th>reply_count</th>\n",
       "      <th>retweet_count</th>\n",
       "      <th>retweet_text</th>\n",
       "      <th>text</th>\n",
       "      <th>urls_expanded_url</th>\n",
       "      <th>urls_url</th>\n",
       "      <th>relevant</th>\n",
       "    </tr>\n",
       "  </thead>\n",
       "  <tbody>\n",
       "    <tr>\n",
       "      <th>0</th>\n",
       "      <td>0</td>\n",
       "      <td>9.135860e+17</td>\n",
       "      <td>False</td>\n",
       "      <td>False</td>\n",
       "      <td>0</td>\n",
       "      <td>0</td>\n",
       "      <td>NaN</td>\n",
       "      <td>1</td>\n",
       "      <td>0</td>\n",
       "      <td>NaN</td>\n",
       "      <td>@OzraeliAvi @SydneyLWatson @RitaPanahi @thejui...</td>\n",
       "      <td>https://www.theguardian.com/australia-news/201...</td>\n",
       "      <td>https://t.co/5AGrpxapqB</td>\n",
       "      <td>Relevant</td>\n",
       "    </tr>\n",
       "    <tr>\n",
       "      <th>1</th>\n",
       "      <td>1</td>\n",
       "      <td>2.574775e+08</td>\n",
       "      <td>False</td>\n",
       "      <td>False</td>\n",
       "      <td>2</td>\n",
       "      <td>0</td>\n",
       "      <td>NaN</td>\n",
       "      <td>1</td>\n",
       "      <td>0</td>\n",
       "      <td>NaN</td>\n",
       "      <td>@Red_dragon_fly @warr_cameron @NSWRFS Tell me ...</td>\n",
       "      <td>NaN</td>\n",
       "      <td>NaN</td>\n",
       "      <td>Relevant</td>\n",
       "    </tr>\n",
       "    <tr>\n",
       "      <th>2</th>\n",
       "      <td>2</td>\n",
       "      <td>NaN</td>\n",
       "      <td>False</td>\n",
       "      <td>False</td>\n",
       "      <td>0</td>\n",
       "      <td>0</td>\n",
       "      <td>NaN</td>\n",
       "      <td>0</td>\n",
       "      <td>0</td>\n",
       "      <td>NaN</td>\n",
       "      <td>Can we just have a fucking blanket ban on cele...</td>\n",
       "      <td>NaN</td>\n",
       "      <td>NaN</td>\n",
       "      <td>Relevant</td>\n",
       "    </tr>\n",
       "    <tr>\n",
       "      <th>3</th>\n",
       "      <td>3</td>\n",
       "      <td>1.429786e+07</td>\n",
       "      <td>False</td>\n",
       "      <td>False</td>\n",
       "      <td>0</td>\n",
       "      <td>0</td>\n",
       "      <td>NaN</td>\n",
       "      <td>0</td>\n",
       "      <td>0</td>\n",
       "      <td>NaN</td>\n",
       "      <td>@scottsantens Scott, 🙏  for the tweets re: And...</td>\n",
       "      <td>NaN</td>\n",
       "      <td>NaN</td>\n",
       "      <td>Relevant</td>\n",
       "    </tr>\n",
       "    <tr>\n",
       "      <th>4</th>\n",
       "      <td>4</td>\n",
       "      <td>1.229958e+08</td>\n",
       "      <td>False</td>\n",
       "      <td>False</td>\n",
       "      <td>0</td>\n",
       "      <td>0</td>\n",
       "      <td>NaN</td>\n",
       "      <td>0</td>\n",
       "      <td>0</td>\n",
       "      <td>NaN</td>\n",
       "      <td>@Javedakhtarjadu Misleading information someti...</td>\n",
       "      <td>NaN</td>\n",
       "      <td>NaN</td>\n",
       "      <td>Irrelevant</td>\n",
       "    </tr>\n",
       "  </tbody>\n",
       "</table>\n",
       "</div>"
      ],
      "text/plain": [
       "   Unnamed: 0  in_reply_to_user_id  is_quote  is_retweet  like_count  \\\n",
       "0           0         9.135860e+17     False       False           0   \n",
       "1           1         2.574775e+08     False       False           2   \n",
       "2           2                  NaN     False       False           0   \n",
       "3           3         1.429786e+07     False       False           0   \n",
       "4           4         1.229958e+08     False       False           0   \n",
       "\n",
       "   quote_count quoted_text  reply_count  retweet_count  retweet_text  \\\n",
       "0            0         NaN            1              0           NaN   \n",
       "1            0         NaN            1              0           NaN   \n",
       "2            0         NaN            0              0           NaN   \n",
       "3            0         NaN            0              0           NaN   \n",
       "4            0         NaN            0              0           NaN   \n",
       "\n",
       "                                                text  \\\n",
       "0  @OzraeliAvi @SydneyLWatson @RitaPanahi @thejui...   \n",
       "1  @Red_dragon_fly @warr_cameron @NSWRFS Tell me ...   \n",
       "2  Can we just have a fucking blanket ban on cele...   \n",
       "3  @scottsantens Scott, 🙏  for the tweets re: And...   \n",
       "4  @Javedakhtarjadu Misleading information someti...   \n",
       "\n",
       "                                   urls_expanded_url                 urls_url  \\\n",
       "0  https://www.theguardian.com/australia-news/201...  https://t.co/5AGrpxapqB   \n",
       "1                                                NaN                      NaN   \n",
       "2                                                NaN                      NaN   \n",
       "3                                                NaN                      NaN   \n",
       "4                                                NaN                      NaN   \n",
       "\n",
       "     relevant  \n",
       "0    Relevant  \n",
       "1    Relevant  \n",
       "2    Relevant  \n",
       "3    Relevant  \n",
       "4  Irrelevant  "
      ]
     },
     "execution_count": 2,
     "metadata": {},
     "output_type": "execute_result"
    }
   ],
   "source": [
    "# create dataframe from csv\n",
    "df = pd.read_csv('./Task/Classification/classification_data.csv')\n",
    "df.head()"
   ]
  },
  {
   "cell_type": "code",
   "execution_count": 3,
   "id": "28d51a16",
   "metadata": {},
   "outputs": [
    {
     "name": "stdout",
     "output_type": "stream",
     "text": [
      "<class 'pandas.core.frame.DataFrame'>\n",
      "RangeIndex: 7591 entries, 0 to 7590\n",
      "Data columns (total 13 columns):\n",
      " #   Column               Non-Null Count  Dtype  \n",
      "---  ------               --------------  -----  \n",
      " 0   in_reply_to_user_id  3542 non-null   float64\n",
      " 1   is_quote             7591 non-null   bool   \n",
      " 2   is_retweet           7591 non-null   bool   \n",
      " 3   like_count           7591 non-null   int64  \n",
      " 4   quote_count          7591 non-null   int64  \n",
      " 5   quoted_text          575 non-null    object \n",
      " 6   reply_count          7591 non-null   int64  \n",
      " 7   retweet_count        7591 non-null   int64  \n",
      " 8   retweet_text         0 non-null      float64\n",
      " 9   text                 7591 non-null   object \n",
      " 10  urls_expanded_url    3747 non-null   object \n",
      " 11  urls_url             3747 non-null   object \n",
      " 12  relevant             7591 non-null   object \n",
      "dtypes: bool(2), float64(2), int64(4), object(5)\n",
      "memory usage: 667.3+ KB\n"
     ]
    }
   ],
   "source": [
    "# drop index column and duplicate rows \n",
    "df = df.drop(df.columns[0], axis=1)\n",
    "df = df.drop_duplicates().reset_index(drop=True)\n",
    "\n",
    "df.info()"
   ]
  },
  {
   "cell_type": "code",
   "execution_count": 4,
   "id": "8b960988",
   "metadata": {},
   "outputs": [
    {
     "data": {
      "text/html": [
       "<div>\n",
       "<style scoped>\n",
       "    .dataframe tbody tr th:only-of-type {\n",
       "        vertical-align: middle;\n",
       "    }\n",
       "\n",
       "    .dataframe tbody tr th {\n",
       "        vertical-align: top;\n",
       "    }\n",
       "\n",
       "    .dataframe thead th {\n",
       "        text-align: right;\n",
       "    }\n",
       "</style>\n",
       "<table border=\"1\" class=\"dataframe\">\n",
       "  <thead>\n",
       "    <tr style=\"text-align: right;\">\n",
       "      <th></th>\n",
       "      <th>in_reply_to_user_id</th>\n",
       "      <th>like_count</th>\n",
       "      <th>quote_count</th>\n",
       "      <th>reply_count</th>\n",
       "      <th>retweet_count</th>\n",
       "    </tr>\n",
       "  </thead>\n",
       "  <tbody>\n",
       "    <tr>\n",
       "      <th>count</th>\n",
       "      <td>3.542000e+03</td>\n",
       "      <td>7591.000000</td>\n",
       "      <td>7591.000000</td>\n",
       "      <td>7591.000000</td>\n",
       "      <td>7591.000000</td>\n",
       "    </tr>\n",
       "    <tr>\n",
       "      <th>mean</th>\n",
       "      <td>3.194062e+17</td>\n",
       "      <td>11.169938</td>\n",
       "      <td>0.318667</td>\n",
       "      <td>1.375972</td>\n",
       "      <td>2.106705</td>\n",
       "    </tr>\n",
       "    <tr>\n",
       "      <th>std</th>\n",
       "      <td>5.055444e+17</td>\n",
       "      <td>198.442037</td>\n",
       "      <td>6.581126</td>\n",
       "      <td>29.109233</td>\n",
       "      <td>29.621685</td>\n",
       "    </tr>\n",
       "    <tr>\n",
       "      <th>min</th>\n",
       "      <td>1.200000e+01</td>\n",
       "      <td>0.000000</td>\n",
       "      <td>0.000000</td>\n",
       "      <td>0.000000</td>\n",
       "      <td>0.000000</td>\n",
       "    </tr>\n",
       "    <tr>\n",
       "      <th>25%</th>\n",
       "      <td>2.581237e+07</td>\n",
       "      <td>0.000000</td>\n",
       "      <td>0.000000</td>\n",
       "      <td>0.000000</td>\n",
       "      <td>0.000000</td>\n",
       "    </tr>\n",
       "    <tr>\n",
       "      <th>50%</th>\n",
       "      <td>4.328953e+08</td>\n",
       "      <td>0.000000</td>\n",
       "      <td>0.000000</td>\n",
       "      <td>0.000000</td>\n",
       "      <td>0.000000</td>\n",
       "    </tr>\n",
       "    <tr>\n",
       "      <th>75%</th>\n",
       "      <td>8.300799e+17</td>\n",
       "      <td>1.000000</td>\n",
       "      <td>0.000000</td>\n",
       "      <td>1.000000</td>\n",
       "      <td>0.000000</td>\n",
       "    </tr>\n",
       "    <tr>\n",
       "      <th>max</th>\n",
       "      <td>1.357398e+18</td>\n",
       "      <td>15352.000000</td>\n",
       "      <td>486.000000</td>\n",
       "      <td>2261.000000</td>\n",
       "      <td>2275.000000</td>\n",
       "    </tr>\n",
       "  </tbody>\n",
       "</table>\n",
       "</div>"
      ],
      "text/plain": [
       "       in_reply_to_user_id    like_count  quote_count  reply_count  \\\n",
       "count         3.542000e+03   7591.000000  7591.000000  7591.000000   \n",
       "mean          3.194062e+17     11.169938     0.318667     1.375972   \n",
       "std           5.055444e+17    198.442037     6.581126    29.109233   \n",
       "min           1.200000e+01      0.000000     0.000000     0.000000   \n",
       "25%           2.581237e+07      0.000000     0.000000     0.000000   \n",
       "50%           4.328953e+08      0.000000     0.000000     0.000000   \n",
       "75%           8.300799e+17      1.000000     0.000000     1.000000   \n",
       "max           1.357398e+18  15352.000000   486.000000  2261.000000   \n",
       "\n",
       "       retweet_count  \n",
       "count    7591.000000  \n",
       "mean        2.106705  \n",
       "std        29.621685  \n",
       "min         0.000000  \n",
       "25%         0.000000  \n",
       "50%         0.000000  \n",
       "75%         0.000000  \n",
       "max      2275.000000  "
      ]
     },
     "execution_count": 4,
     "metadata": {},
     "output_type": "execute_result"
    }
   ],
   "source": [
    "# retweet_text column holds no value \n",
    "df = df.drop('retweet_text', axis=1).reset_index(drop=True)\n",
    "df.describe()"
   ]
  },
  {
   "cell_type": "code",
   "execution_count": 5,
   "id": "839718df",
   "metadata": {},
   "outputs": [
    {
     "data": {
      "text/plain": [
       "<AxesSubplot:>"
      ]
     },
     "execution_count": 5,
     "metadata": {},
     "output_type": "execute_result"
    },
    {
     "data": {
      "image/png": "[encoded data removed]",
      "text/plain": [
       "<Figure size 432x288 with 1 Axes>"
      ]
     },
     "metadata": {
      "needs_background": "light"
     },
     "output_type": "display_data"
    }
   ],
   "source": [
    "# plot target variable\n",
    "df['relevant'].value_counts().plot(kind='bar', rot=0)"
   ]
  },
  {
   "cell_type": "code",
   "execution_count": 6,
   "id": "7907c02c",
   "metadata": {},
   "outputs": [],
   "source": [
    "# can lemmatization detect typos in words? (e.g. have'nt or havent) \n",
    "# stemming or lemmatization?\n",
    "# locating and correcting common typos and misspellings.\n",
    "# handling of domain specific words, phrases, or acronyms.\n",
    "\n",
    "# store urls found in tweets and compare them with two features \"expanded_url\" and \"url\" to determine if the url in tweet is a short url or expanded url"
   ]
  },
  {
   "cell_type": "code",
   "execution_count": 7,
   "id": "0be9095f",
   "metadata": {
    "scrolled": true
   },
   "outputs": [],
   "source": [
    "# preprocess text\n",
    "from nltk.corpus import stopwords\n",
    "stopwords = stopwords.words('english')\n",
    "def clean_tweet(tweet):\n",
    "    if type(tweet) == float:\n",
    "        return \"\"\n",
    "    # lowercase all the letters\n",
    "    temp = tweet.lower()\n",
    "    # remove mentions and hashtags\n",
    "    temp = re.sub(r\"@(\\w)+\", \"\", temp)\n",
    "    temp = re.sub(r\"#(\\w)+\", \"\", temp)\n",
    "    # remove links\n",
    "    temp = re.sub(r\"http\\S+\", \"\", temp)\n",
    "    temp = re.sub(r\"www.\\S+\", \"\", temp)\n",
    "    # remove non-alphanumeric characters\n",
    "    temp = re.sub(r\"(\\d|\\W)+\", \" \", temp)\n",
    "    # tokenization\n",
    "    temp = temp.split()\n",
    "    # remove stopwords\n",
    "    temp = [w for w in temp if not w in stopwords]\n",
    "    temp = \" \".join(temp)\n",
    "    return temp "
   ]
  },
  {
   "cell_type": "code",
   "execution_count": 8,
   "id": "35b60b9e",
   "metadata": {},
   "outputs": [],
   "source": [
    "# clean tweet text data\n",
    "df['text'] = [clean_tweet(tw) for tw in df['text']]"
   ]
  },
  {
   "cell_type": "code",
   "execution_count": 9,
   "id": "80b50e37",
   "metadata": {},
   "outputs": [],
   "source": [
    "# if is_quote == True then there exists a quoted_text\n",
    "# the text in quoted_text column exits in text column as well\n",
    "# we drop quoted_text column since its information exists in is_quote and text columns\n",
    "df = df.drop('quoted_text', axis=1)"
   ]
  },
  {
   "cell_type": "code",
   "execution_count": 10,
   "id": "2356bfc3",
   "metadata": {},
   "outputs": [],
   "source": [
    "# extract number of urls for each tweet\n",
    "df['url_count'] = df['urls_url'].apply(lambda x: 0 if pd.isna(x) else (re.findall(\"[,?]\", x).__len__()+1))\n",
    "# check if the tweet is a reply to other tweet\n",
    "df['is_reply'] = df['in_reply_to_user_id'].apply(lambda x: False if pd.isna(x) else True)\n",
    "# remove unneeded columns\n",
    "df = df.drop(columns=['in_reply_to_user_id', 'urls_url', 'urls_expanded_url'], axis=1)"
   ]
  },
  {
   "cell_type": "code",
   "execution_count": 11,
   "id": "45898441",
   "metadata": {},
   "outputs": [],
   "source": [
    "# Convert \"relevant\" categorical data to binary data\n",
    "dummies = pd.get_dummies(df['relevant'])\n",
    "temp = pd.concat((df, dummies), axis=1)\n",
    "temp.drop(columns=['relevant', 'Irrelevant'], inplace=True)\n",
    "df = temp"
   ]
  },
  {
   "cell_type": "code",
   "execution_count": 12,
   "id": "9e178635",
   "metadata": {},
   "outputs": [],
   "source": [
    "from sklearn.feature_extraction.text import CountVectorizer\n",
    "from sklearn.model_selection import train_test_split\n",
    "from sklearn import ensemble\n",
    "from sklearn.metrics import classification_report, accuracy_score"
   ]
  },
  {
   "cell_type": "code",
   "execution_count": 13,
   "id": "5baa5309",
   "metadata": {},
   "outputs": [
    {
     "name": "stdout",
     "output_type": "stream",
     "text": [
      "<class 'pandas.core.frame.DataFrame'>\n",
      "RangeIndex: 7591 entries, 0 to 7590\n",
      "Data columns (total 10 columns):\n",
      " #   Column         Non-Null Count  Dtype \n",
      "---  ------         --------------  ----- \n",
      " 0   is_quote       7591 non-null   bool  \n",
      " 1   is_retweet     7591 non-null   bool  \n",
      " 2   like_count     7591 non-null   int64 \n",
      " 3   quote_count    7591 non-null   int64 \n",
      " 4   reply_count    7591 non-null   int64 \n",
      " 5   retweet_count  7591 non-null   int64 \n",
      " 6   text           7591 non-null   object\n",
      " 7   url_count      7591 non-null   int64 \n",
      " 8   is_reply       7591 non-null   bool  \n",
      " 9   Relevant       7591 non-null   uint8 \n",
      "dtypes: bool(3), int64(5), object(1), uint8(1)\n",
      "memory usage: 385.6+ KB\n"
     ]
    }
   ],
   "source": [
    "df.info()"
   ]
  },
  {
   "cell_type": "code",
   "execution_count": 48,
   "id": "0c4271be",
   "metadata": {},
   "outputs": [],
   "source": [
    "# classical text preprocessing methods\n",
    "# split train and test data\n",
    "X = df[df.columns[[i for i in range(9)]]]\n",
    "y = df['Relevant']\n",
    "df_split = [df.reset_index(drop=True) for df in train_test_split(X, y, test_size=0.2, random_state=42)]\n",
    "X_train, X_test, y_train, y_test = df_split\n",
    "# transform texts to numbers using bag of words method\n",
    "# cv = CountVectorizer()\n",
    "# fit and transform count vectorizer on training data\n",
    "X_train_text = cv.fit(X_train['text']).transform(X_train['text'])\n",
    "X_train_text = pd.DataFrame(X_train_text.toarray(), columns=cv.get_feature_names())\n",
    "# transform testing data\n",
    "X_test_text = cv.transform(X_test['text'])\n",
    "X_test_text = pd.DataFrame(X_test_text.toarray(), columns=cv.get_feature_names())\n",
    "# modify training and testing data\n",
    "X_train = pd.concat((X_train, X_train_text), axis=1)\n",
    "X_train = X_train.drop('text', axis=1)\n",
    "X_test = pd.concat((X_test, X_test_text), axis=1)\n",
    "X_test = X_test.drop('text', axis=1)"
   ]
  },
  {
   "cell_type": "code",
   "execution_count": 49,
   "id": "4a473f74",
   "metadata": {},
   "outputs": [
    {
     "name": "stdout",
     "output_type": "stream",
     "text": [
      "(6072, 9)\n",
      "(6072,)\n",
      "(1519, 9)\n",
      "(1519,)\n"
     ]
    }
   ],
   "source": [
    "# X_train = pd.concat((X_train, X_train_text), axis=1)\n",
    "# X_train = X_train.drop('text', axis=1)\n",
    "# X_test = pd.concat((X_test, X_test_text), axis=1)\n",
    "# X_test = X_test.drop('text', axis=1)\n",
    "\n",
    "print(X_train.shape)\n",
    "print(y_train.shape)\n",
    "print(X_test.shape)\n",
    "print(y_test.shape)"
   ]
  },
  {
   "cell_type": "code",
   "execution_count": null,
   "id": "8b81ca27",
   "metadata": {},
   "outputs": [],
   "source": []
  }
 ],
 "metadata": {
  "kernelspec": {
   "display_name": "Python 3 (ipykernel)",
   "language": "python",
   "name": "python3"
  },
  "language_info": {
   "codemirror_mode": {
    "name": "ipython",
    "version": 3
   },
   "file_extension": ".py",
   "mimetype": "text/x-python",
   "name": "python",
   "nbconvert_exporter": "python",
   "pygments_lexer": "ipython3",
   "version": "3.9.1"
  }
 },
 "nbformat": 4,
 "nbformat_minor": 5
}
